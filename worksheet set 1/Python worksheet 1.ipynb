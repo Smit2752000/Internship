{
 "cells": [
  {
   "cell_type": "markdown",
   "id": "83cd7a1a-8fc1-4063-8102-25296858b9f3",
   "metadata": {},
   "source": [
    "1. Which of the following operators is used to calculate remainder in a division?\n",
    "Ans= %"
   ]
  },
  {
   "cell_type": "markdown",
   "id": "5b18b63c-7918-46c8-a52b-5fcddcf8d55a",
   "metadata": {},
   "source": [
    "2. In python 2//3 is equal to?\n",
    "Ans = 0"
   ]
  },
  {
   "cell_type": "markdown",
   "id": "1890eca3-37e4-42e3-a01e-30a5f96fca69",
   "metadata": {},
   "source": [
    "3. In python, 6<<2 is equal to?\n",
    "Ans=24"
   ]
  },
  {
   "cell_type": "markdown",
   "id": "e8f3bad5-3001-40e5-94c2-755b07ca23de",
   "metadata": {},
   "source": [
    "4. In python, 6&2 will give which of the following as output?\n",
    "Ans = 2"
   ]
  },
  {
   "cell_type": "markdown",
   "id": "562de9b5-d1b2-4e36-b836-66ea7f6c96bf",
   "metadata": {},
   "source": [
    "5. In python, 6|2 will give which of the following as output?\n",
    "Ans = 6"
   ]
  },
  {
   "cell_type": "markdown",
   "id": "c55c7fd4-8291-430c-acf7-ed5b96aa921c",
   "metadata": {},
   "source": [
    "6. What does the finally keyword denotes in python?\n",
    "Ans= the finally block will be executed no matter if the try block raises an error or not."
   ]
  },
  {
   "cell_type": "markdown",
   "id": "de390258-6e6e-4607-b3ad-35ee49152de3",
   "metadata": {},
   "source": [
    "7. What does raise keyword is used for in python?\n",
    "Ans= It is used to raise an exception."
   ]
  },
  {
   "cell_type": "markdown",
   "id": "7ed7b003-9048-49e7-bc60-8f5caf46452d",
   "metadata": {},
   "source": [
    "8. Which of the following is a common use case of yield keyword in python?\n",
    "Ans = in defining a generator"
   ]
  },
  {
   "cell_type": "markdown",
   "id": "4743c863-2f36-4073-85cd-c4a8dd5015c3",
   "metadata": {},
   "source": [
    "9. Which of the following are the valid variable names?\n",
    "Ans = _abc and abc2"
   ]
  },
  {
   "cell_type": "markdown",
   "id": "155f323c-cb71-4acd-bbb5-84e6612db9b4",
   "metadata": {},
   "source": [
    "10. Which of the following are the keywords in python?\n",
    "Ans = yield and raise"
   ]
  },
  {
   "cell_type": "markdown",
   "id": "42ed190b-b5f2-4a40-954b-461afc30ac9c",
   "metadata": {},
   "source": [
    "Q-11"
   ]
  },
  {
   "cell_type": "code",
   "execution_count": 13,
   "id": "1416bc82-0351-4e41-bbec-ae11a80c0614",
   "metadata": {},
   "outputs": [
    {
     "name": "stdin",
     "output_type": "stream",
     "text": [
      "Enter your number here: 6\n"
     ]
    },
    {
     "name": "stdout",
     "output_type": "stream",
     "text": [
      "Factorial of 6 is 720.\n"
     ]
    }
   ],
   "source": [
    "N=int(input('Enter your number here:'))\n",
    "f=1\n",
    "if N<0:\n",
    "    print('Given number is not valid')\n",
    "elif N==0:\n",
    "    print(1)\n",
    "else:\n",
    "    for i in range (1,N+1):\n",
    "        f=f*i\n",
    "    print(f'Factorial of {N} is {f}.')"
   ]
  },
  {
   "cell_type": "markdown",
   "id": "fcb4c2a7-28ad-420d-ad59-fb72a026ed81",
   "metadata": {},
   "source": [
    "Q-12"
   ]
  },
  {
   "cell_type": "code",
   "execution_count": 19,
   "id": "8c6239e2-64c3-445a-b74d-d29ddbed4986",
   "metadata": {},
   "outputs": [
    {
     "name": "stdin",
     "output_type": "stream",
     "text": [
      "Enter your number here: 7\n"
     ]
    },
    {
     "name": "stdout",
     "output_type": "stream",
     "text": [
      "Number is composite\n"
     ]
    }
   ],
   "source": [
    "n=int(input('Enter your number here:'))\n",
    "if n==1:\n",
    "    print('This number is composite')\n",
    "elif n>1 :\n",
    "    for i in range(2,n):\n",
    "        if n % i==0:\n",
    "            print('Number is prime')\n",
    "            break\n",
    "    else:\n",
    "        print('Number is composite')"
   ]
  },
  {
   "cell_type": "markdown",
   "id": "215e5e89-81c5-4751-b5a7-f1dc96e80b98",
   "metadata": {},
   "source": [
    "Q-13"
   ]
  },
  {
   "cell_type": "code",
   "execution_count": 23,
   "id": "550ddfab-746a-4571-bdaf-183a40100eaa",
   "metadata": {},
   "outputs": [
    {
     "name": "stdin",
     "output_type": "stream",
     "text": [
      "Enter a word here:-  sir\n"
     ]
    },
    {
     "name": "stdout",
     "output_type": "stream",
     "text": [
      "No,it is not palindrome\n"
     ]
    }
   ],
   "source": [
    "word=input('Enter a word here:- ')\n",
    "r=word[::-1]\n",
    "if r==word:\n",
    "    print(f'Yes,{word} is palindrome')\n",
    "else:\n",
    "    print('No,it is not palindrome')"
   ]
  },
  {
   "cell_type": "markdown",
   "id": "1fd46643-1314-4f0c-b0ef-2be6b0b0857f",
   "metadata": {},
   "source": [
    "Q-14"
   ]
  },
  {
   "cell_type": "code",
   "execution_count": 24,
   "id": "e99696df-04da-45a3-af44-38b5ba6daab7",
   "metadata": {},
   "outputs": [],
   "source": [
    "import math"
   ]
  },
  {
   "cell_type": "code",
   "execution_count": 26,
   "id": "3ad6a7c2-e43a-471e-9b9b-37635e162579",
   "metadata": {},
   "outputs": [
    {
     "name": "stdin",
     "output_type": "stream",
     "text": [
      "Enter a number here:  5\n",
      "Enter a number here:  5\n"
     ]
    },
    {
     "name": "stdout",
     "output_type": "stream",
     "text": [
      "The third side of right-angle tringel is 7.0710678118654755 \n"
     ]
    }
   ],
   "source": [
    "a=int(input('Enter a number here: '))\n",
    "b=int(input('Enter a number here: '))\n",
    "c=math.sqrt(a**2 + b**2)\n",
    "print(f'The third side of right-angle tringel is {c} ')"
   ]
  },
  {
   "cell_type": "markdown",
   "id": "53bcd209-498f-424c-b80b-267e4237f160",
   "metadata": {},
   "source": [
    "Q-15"
   ]
  },
  {
   "cell_type": "code",
   "execution_count": 27,
   "id": "dc0e7960-b26f-4ec9-a401-e482aba29512",
   "metadata": {},
   "outputs": [
    {
     "name": "stdout",
     "output_type": "stream",
     "text": [
      "H:1\n",
      "e:1\n",
      "l:3\n",
      "o:2\n",
      " :1\n",
      "w:1\n",
      "r:1\n",
      "d:1\n"
     ]
    }
   ],
   "source": [
    "text='Hello world'\n",
    "f={}\n",
    "for i in text:\n",
    "    if i in f:\n",
    "        f[i] +=1\n",
    "    else:\n",
    "        f[i]=1\n",
    "for i ,count in f.items():\n",
    "    print(f'{i}:{count}')"
   ]
  }
 ],
 "metadata": {
  "kernelspec": {
   "display_name": "Python 3 (ipykernel)",
   "language": "python",
   "name": "python3"
  },
  "language_info": {
   "codemirror_mode": {
    "name": "ipython",
    "version": 3
   },
   "file_extension": ".py",
   "mimetype": "text/x-python",
   "name": "python",
   "nbconvert_exporter": "python",
   "pygments_lexer": "ipython3",
   "version": "3.12.0"
  }
 },
 "nbformat": 4,
 "nbformat_minor": 5
}
