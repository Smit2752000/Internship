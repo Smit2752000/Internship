{
 "cells": [
  {
   "cell_type": "code",
   "execution_count": 296,
   "id": "77705578-7a1e-404e-896c-92bbe3c15d4c",
   "metadata": {},
   "outputs": [],
   "source": [
    "import pandas as pd\n",
    "import selenium\n",
    "from selenium import webdriver\n",
    "import warnings\n",
    "warnings.filterwarnings('ignore')\n",
    "from selenium.webdriver.common.by import By\n",
    "import time"
   ]
  },
  {
   "cell_type": "code",
   "execution_count": 297,
   "id": "99979bc8-23e8-4acd-a398-af386a2dd2af",
   "metadata": {},
   "outputs": [],
   "source": [
    "from selenium.webdriver.support.ui import WebDriverWait\n",
    "from selenium.webdriver.support import expected_conditions as EC"
   ]
  },
  {
   "cell_type": "code",
   "execution_count": 295,
   "id": "3445f0d9-a1d5-47f9-b120-97760697ca98",
   "metadata": {},
   "outputs": [],
   "source": [
    "driver=webdriver.Edge()"
   ]
  },
  {
   "cell_type": "markdown",
   "id": "7c875ac1-5f5e-4532-bff7-3cab0edb386b",
   "metadata": {},
   "source": [
    "Q-1= Write a python program which searches all the product under a particular product from www.amazon.in. The \r\n",
    "product to be searched will be taken as input from user. For e.g. If user input is ‘guitar’. Then search for \r\n",
    "guitars. "
   ]
  },
  {
   "cell_type": "code",
   "execution_count": 29,
   "id": "5ca96bcd-6817-467a-a7a8-27805ed80963",
   "metadata": {},
   "outputs": [],
   "source": [
    "driver.get('http://www.amazon.in/')"
   ]
  },
  {
   "cell_type": "code",
   "execution_count": 30,
   "id": "12098e73-5343-4cdd-a180-83faaa53b915",
   "metadata": {},
   "outputs": [
    {
     "name": "stdin",
     "output_type": "stream",
     "text": [
      "Enter keyword that you want to search= guitar\n"
     ]
    }
   ],
   "source": [
    "user=input('Enter keyword that you want to search=')\n",
    "user_=driver.find_element(By.ID,\"twotabsearchtextbox\")\n",
    "user_.send_keys(user)"
   ]
  },
  {
   "cell_type": "code",
   "execution_count": 31,
   "id": "31515739-32de-4204-b4a6-0d7a2ef9ba1c",
   "metadata": {},
   "outputs": [],
   "source": [
    "src=driver.find_element(By.ID,'nav-search-submit-button')\n",
    "src.click()"
   ]
  },
  {
   "cell_type": "markdown",
   "id": "b732aaa8-b1e9-4530-8c05-ceb3a6d0ed9e",
   "metadata": {},
   "source": [
    "Q-2= In the above question, now scrape the following details of each product listed in first 3 pages of your search \r\n",
    "results and save it in a data frame and csv. In case if any product has less than 3 pages in search results then \r\n",
    "scrape all the products available under that product name. Details to be scraped are: \"Brand \r\n",
    "Name\", \"Name of the Product\", \"Price\", \"Return/Exchange\", \"Expected Delivery\", \"Availability\" and \r\n",
    "“Product URL”. In case, if any of the details are missing for any of the product then replace it by “-“."
   ]
  },
  {
   "cell_type": "code",
   "execution_count": 32,
   "id": "45ed8427-b485-4247-b831-000d1eb887f8",
   "metadata": {},
   "outputs": [],
   "source": [
    "final=[]\n",
    "src=driver.current_url\n",
    "s=0\n",
    "e=3\n",
    "for a in range(s,e):\n",
    "    time.sleep(2)\n",
    "    contents=driver.find_elements(By.XPATH,'//h2[@class=\"a-size-mini a-spacing-none a-color-base s-line-clamp-4\"]')\n",
    "    for each,item in enumerate(contents):\n",
    "        try:\n",
    "            contents=driver.find_elements(By.XPATH,'//h2[@class=\"a-size-mini a-spacing-none a-color-base s-line-clamp-4\"]')\n",
    "            item=contents[each]\n",
    "        \n",
    "           \n",
    "            items=item.find_element(By.XPATH,'.//a')\n",
    "            url=items.get_attribute('href')\n",
    "            \n",
    "            driver.get(url)\n",
    "          \n",
    "            WebDriverWait(driver, 10).until(\n",
    "                EC.presence_of_element_located((By.XPATH,'//span[@class=\"a-size-large product-title-word-break\"]')))\n",
    "\n",
    "            try:\n",
    "                b_name=driver.find_element(By.XPATH,'//tr[@class=\"a-spacing-small po-brand\"]//span[@class=\"a-size-base po-break-word\"]').text\n",
    "            except:\n",
    "                b_name='-'\n",
    "            try:\n",
    "                nop=driver.find_element(By.XPATH,'//span[@class=\"a-size-large product-title-word-break\"]').text\n",
    "            except:\n",
    "                nop='-'\n",
    "            try:\n",
    "                price=driver.find_element(By.XPATH,'//span[@class=\"a-price aok-align-center reinventPricePriceToPayMargin priceToPay\"]').text\n",
    "            except:\n",
    "                price='-'\n",
    "            try:\n",
    "                r_e=driver.find_element(By.XPATH,'//li[@class=\"a-carousel-card tw-scroll-carousel-element\"]//div//span//span[@class=\"a-size-small a-color-link a-text-normal\"]').text\n",
    "            except:\n",
    "                r_e='-'\n",
    "            try:\n",
    "                deli=driver.find_element(By.XPATH,'//div[@id=\"mir-layout-DELIVERY_BLOCK\"]').text\n",
    "            except:\n",
    "                deli='-'\n",
    "            try:\n",
    "                stock=driver.find_element(By.XPATH,'//span[@class=\"a-size-medium a-color-success\"]').text\n",
    "            except:\n",
    "                stock='-'\n",
    "            \n",
    "            Amazon=({'Brand':b_name,'NoP':nop,'Price':price,'R_E':r_e,'Delivery':deli,'Stock':stock,'P_url':url})\n",
    "            final.append(Amazon)\n",
    "            \n",
    "            driver.get(src)\n",
    "            \n",
    "            time.sleep(3)\n",
    "        \n",
    "        except Exception as e:\n",
    "            print(f\"Error on product{each+1}:{e}\")\n",
    "            driver.get(src)\n",
    "            \n",
    "            time.sleep(3)\n",
    "        \n",
    "    try:\n",
    "        next=driver.find_element(By.XPATH,'//a[@class=\"s-pagination-item s-pagination-next s-pagination-button s-pagination-separator\"]')\n",
    "        src=driver.current_url\n",
    "        next.click()\n",
    "    except:\n",
    "        print('The end')\n",
    "        break"
   ]
  },
  {
   "cell_type": "code",
   "execution_count": 34,
   "id": "27539be1-d065-480c-8f62-84614738c38d",
   "metadata": {},
   "outputs": [],
   "source": [
    "AMAZON=pd.DataFrame(final)"
   ]
  },
  {
   "cell_type": "code",
   "execution_count": 35,
   "id": "680a274f-55c8-41bd-b691-9ee4aca2dd75",
   "metadata": {},
   "outputs": [
    {
     "data": {
      "text/html": [
       "<div>\n",
       "<style scoped>\n",
       "    .dataframe tbody tr th:only-of-type {\n",
       "        vertical-align: middle;\n",
       "    }\n",
       "\n",
       "    .dataframe tbody tr th {\n",
       "        vertical-align: top;\n",
       "    }\n",
       "\n",
       "    .dataframe thead th {\n",
       "        text-align: right;\n",
       "    }\n",
       "</style>\n",
       "<table border=\"1\" class=\"dataframe\">\n",
       "  <thead>\n",
       "    <tr style=\"text-align: right;\">\n",
       "      <th></th>\n",
       "      <th>Brand</th>\n",
       "      <th>NoP</th>\n",
       "      <th>Price</th>\n",
       "      <th>R_E</th>\n",
       "      <th>Delivery</th>\n",
       "      <th>Stock</th>\n",
       "      <th>P_url</th>\n",
       "    </tr>\n",
       "  </thead>\n",
       "  <tbody>\n",
       "    <tr>\n",
       "      <th>0</th>\n",
       "      <td>Kadence</td>\n",
       "      <td>Kadence A281 Professional Acoustic Rosewood gu...</td>\n",
       "      <td>₹6,999</td>\n",
       "      <td>7 days Replacement</td>\n",
       "      <td>FREE delivery Tuesday, 17 September. Order wit...</td>\n",
       "      <td>In stock</td>\n",
       "      <td>https://www.amazon.in/sspa/click?ie=UTF8&amp;spc=M...</td>\n",
       "    </tr>\n",
       "    <tr>\n",
       "      <th>1</th>\n",
       "      <td>MOCKING BIRD</td>\n",
       "      <td>MOCKING BIRD 38c Acoustic Guitar for Beginners...</td>\n",
       "      <td>₹3,449</td>\n",
       "      <td>7 days Replacement</td>\n",
       "      <td>FREE delivery Thursday, 19 September. Order wi...</td>\n",
       "      <td>In stock</td>\n",
       "      <td>https://www.amazon.in/sspa/click?ie=UTF8&amp;spc=M...</td>\n",
       "    </tr>\n",
       "    <tr>\n",
       "      <th>2</th>\n",
       "      <td>MOCKING BIRD</td>\n",
       "      <td>MOCKING BIRD 38c Acoustic Guitar for Beginners...</td>\n",
       "      <td>₹3,449</td>\n",
       "      <td>7 days Replacement</td>\n",
       "      <td>FREE delivery Thursday, 19 September. Order wi...</td>\n",
       "      <td>In stock</td>\n",
       "      <td>https://www.amazon.in/sspa/click?ie=UTF8&amp;spc=M...</td>\n",
       "    </tr>\n",
       "    <tr>\n",
       "      <th>3</th>\n",
       "      <td>Henrix</td>\n",
       "      <td>Henrix 38C 38 Inch Cutaway Acoustic Guitar Wit...</td>\n",
       "      <td>₹3,299</td>\n",
       "      <td>7 days Replacement</td>\n",
       "      <td>FREE delivery Wednesday, 18 September. Details...</td>\n",
       "      <td>In stock</td>\n",
       "      <td>https://www.amazon.in/sspa/click?ie=UTF8&amp;spc=M...</td>\n",
       "    </tr>\n",
       "    <tr>\n",
       "      <th>4</th>\n",
       "      <td>JUAREZ</td>\n",
       "      <td>Juârez Acoustic Guitar Kit, 38 Inch Cutaway, 0...</td>\n",
       "      <td>₹2,179</td>\n",
       "      <td>7 days Replacement</td>\n",
       "      <td>FREE scheduled delivery as soon as Wednesday, ...</td>\n",
       "      <td>In stock</td>\n",
       "      <td>https://www.amazon.in/Juarez-Acoustic-Cutaway-...</td>\n",
       "    </tr>\n",
       "    <tr>\n",
       "      <th>...</th>\n",
       "      <td>...</td>\n",
       "      <td>...</td>\n",
       "      <td>...</td>\n",
       "      <td>...</td>\n",
       "      <td>...</td>\n",
       "      <td>...</td>\n",
       "      <td>...</td>\n",
       "    </tr>\n",
       "    <tr>\n",
       "      <th>151</th>\n",
       "      <td>JUAREZ</td>\n",
       "      <td>Juarez Acoustic Guitar, [ LEFT HANDED] 38 Inch...</td>\n",
       "      <td>₹2,746</td>\n",
       "      <td>7 days Replacement</td>\n",
       "      <td>FREE delivery Tuesday, 17 September. Order wit...</td>\n",
       "      <td>In stock</td>\n",
       "      <td>https://www.amazon.in/Juarez-Acoustic-Cutaway-...</td>\n",
       "    </tr>\n",
       "    <tr>\n",
       "      <th>152</th>\n",
       "      <td>Kadence</td>\n",
       "      <td>Kadence Frontier Semi Acoustic Jumbo Guitar 41...</td>\n",
       "      <td>₹5,999</td>\n",
       "      <td>7 days Replacement</td>\n",
       "      <td>FREE delivery Thursday, 19 September. Order wi...</td>\n",
       "      <td>In stock</td>\n",
       "      <td>https://www.amazon.in/Kadence-Frontier-Acousti...</td>\n",
       "    </tr>\n",
       "    <tr>\n",
       "      <th>153</th>\n",
       "      <td>JUAREZ</td>\n",
       "      <td>Juarez Acoustic Guitar, [ LEFT HANDED] 38 Inch...</td>\n",
       "      <td>₹2,746</td>\n",
       "      <td>7 days Replacement</td>\n",
       "      <td>FREE delivery Tuesday, 17 September. Order wit...</td>\n",
       "      <td>In stock</td>\n",
       "      <td>https://www.amazon.in/Juarez-Acoustic-Cutaway-...</td>\n",
       "    </tr>\n",
       "    <tr>\n",
       "      <th>154</th>\n",
       "      <td>JUAREZ</td>\n",
       "      <td>Juârez Acoustic Guitar, 38 Inch Cutaway, 038C ...</td>\n",
       "      <td>₹6,750</td>\n",
       "      <td>7 days Replacement</td>\n",
       "      <td>FREE delivery Tuesday, 17 September. Order wit...</td>\n",
       "      <td>In stock</td>\n",
       "      <td>https://www.amazon.in/Juarez-ST38-Electric-Gui...</td>\n",
       "    </tr>\n",
       "    <tr>\n",
       "      <th>155</th>\n",
       "      <td>YAMAHA</td>\n",
       "      <td>YAMAHA Spruce Wood Fsx80C Semi Acoustic Cutawa...</td>\n",
       "      <td>₹11,749</td>\n",
       "      <td>7 days Replacement</td>\n",
       "      <td>FREE delivery Thursday, 19 September. Order wi...</td>\n",
       "      <td>In stock</td>\n",
       "      <td>https://www.amazon.in/Yamaha-FSX80C-Acoustic-C...</td>\n",
       "    </tr>\n",
       "  </tbody>\n",
       "</table>\n",
       "<p>156 rows × 7 columns</p>\n",
       "</div>"
      ],
      "text/plain": [
       "            Brand                                                NoP    Price  \\\n",
       "0         Kadence  Kadence A281 Professional Acoustic Rosewood gu...   ₹6,999   \n",
       "1    MOCKING BIRD  MOCKING BIRD 38c Acoustic Guitar for Beginners...   ₹3,449   \n",
       "2    MOCKING BIRD  MOCKING BIRD 38c Acoustic Guitar for Beginners...   ₹3,449   \n",
       "3          Henrix  Henrix 38C 38 Inch Cutaway Acoustic Guitar Wit...   ₹3,299   \n",
       "4          JUAREZ  Juârez Acoustic Guitar Kit, 38 Inch Cutaway, 0...   ₹2,179   \n",
       "..            ...                                                ...      ...   \n",
       "151        JUAREZ  Juarez Acoustic Guitar, [ LEFT HANDED] 38 Inch...   ₹2,746   \n",
       "152       Kadence  Kadence Frontier Semi Acoustic Jumbo Guitar 41...   ₹5,999   \n",
       "153        JUAREZ  Juarez Acoustic Guitar, [ LEFT HANDED] 38 Inch...   ₹2,746   \n",
       "154        JUAREZ  Juârez Acoustic Guitar, 38 Inch Cutaway, 038C ...   ₹6,750   \n",
       "155        YAMAHA  YAMAHA Spruce Wood Fsx80C Semi Acoustic Cutawa...  ₹11,749   \n",
       "\n",
       "                    R_E                                           Delivery  \\\n",
       "0    7 days Replacement  FREE delivery Tuesday, 17 September. Order wit...   \n",
       "1    7 days Replacement  FREE delivery Thursday, 19 September. Order wi...   \n",
       "2    7 days Replacement  FREE delivery Thursday, 19 September. Order wi...   \n",
       "3    7 days Replacement  FREE delivery Wednesday, 18 September. Details...   \n",
       "4    7 days Replacement  FREE scheduled delivery as soon as Wednesday, ...   \n",
       "..                  ...                                                ...   \n",
       "151  7 days Replacement  FREE delivery Tuesday, 17 September. Order wit...   \n",
       "152  7 days Replacement  FREE delivery Thursday, 19 September. Order wi...   \n",
       "153  7 days Replacement  FREE delivery Tuesday, 17 September. Order wit...   \n",
       "154  7 days Replacement  FREE delivery Tuesday, 17 September. Order wit...   \n",
       "155  7 days Replacement  FREE delivery Thursday, 19 September. Order wi...   \n",
       "\n",
       "        Stock                                              P_url  \n",
       "0    In stock  https://www.amazon.in/sspa/click?ie=UTF8&spc=M...  \n",
       "1    In stock  https://www.amazon.in/sspa/click?ie=UTF8&spc=M...  \n",
       "2    In stock  https://www.amazon.in/sspa/click?ie=UTF8&spc=M...  \n",
       "3    In stock  https://www.amazon.in/sspa/click?ie=UTF8&spc=M...  \n",
       "4    In stock  https://www.amazon.in/Juarez-Acoustic-Cutaway-...  \n",
       "..        ...                                                ...  \n",
       "151  In stock  https://www.amazon.in/Juarez-Acoustic-Cutaway-...  \n",
       "152  In stock  https://www.amazon.in/Kadence-Frontier-Acousti...  \n",
       "153  In stock  https://www.amazon.in/Juarez-Acoustic-Cutaway-...  \n",
       "154  In stock  https://www.amazon.in/Juarez-ST38-Electric-Gui...  \n",
       "155  In stock  https://www.amazon.in/Yamaha-FSX80C-Acoustic-C...  \n",
       "\n",
       "[156 rows x 7 columns]"
      ]
     },
     "execution_count": 35,
     "metadata": {},
     "output_type": "execute_result"
    }
   ],
   "source": [
    "AMAZON"
   ]
  },
  {
   "cell_type": "markdown",
   "id": "050da25b-ec9e-4ac2-823b-d3c2ddcc3c4d",
   "metadata": {},
   "source": [
    "Q-3=Write a python program to access the search bar and search button on images.google.com and scrape 10 \n",
    "images each for keywords ‘fruits’, ‘cars’ and ‘Machine Learning’, ‘Guitar’, ‘Cakes’."
   ]
  },
  {
   "cell_type": "code",
   "execution_count": 37,
   "id": "ef92f5da-5719-45f4-a1ff-5d4987632a74",
   "metadata": {},
   "outputs": [],
   "source": [
    "driver.get('https://images.google.com/')"
   ]
  },
  {
   "cell_type": "code",
   "execution_count": 38,
   "id": "4fa1118b-31f7-4f7e-840a-6b45bdfa04ef",
   "metadata": {},
   "outputs": [],
   "source": [
    "Src=driver.find_element(By.XPATH,'/html/body/div[1]/div[3]/form/div[1]/div[1]/div[1]/div/div[2]/textarea')\n",
    "Src.send_keys('fruits')\n",
    "\n",
    "Clc=driver.find_element(By.XPATH,'/html/body/div[1]/div[3]/form/div[1]/div[1]/div[1]/button/div/span')\n",
    "Clc.click()"
   ]
  },
  {
   "cell_type": "code",
   "execution_count": 39,
   "id": "58f0cc17-2c2e-43a6-94a9-6138f6f1caef",
   "metadata": {},
   "outputs": [],
   "source": [
    "fruit=[]\n",
    "cars=[]\n",
    "ml=[]\n",
    "guitar=[]\n",
    "cakes=[]"
   ]
  },
  {
   "cell_type": "code",
   "execution_count": 40,
   "id": "689beacd-fbec-483e-b17e-ab8a94187084",
   "metadata": {},
   "outputs": [],
   "source": [
    "Img1=driver.find_elements(By.XPATH,'//img[@class=\"YQ4gaf\"]')\n",
    "Img1[0:10]\n",
    "for a in Img1[0:10]:\n",
    "    fru=a.get_attribute('src')\n",
    "    fruit.append(fru)"
   ]
  },
  {
   "cell_type": "code",
   "execution_count": 45,
   "id": "616f1e29-f5bc-444b-a202-2ff68f4a10ab",
   "metadata": {},
   "outputs": [],
   "source": [
    "driver.get('https://images.google.com/')"
   ]
  },
  {
   "cell_type": "code",
   "execution_count": 46,
   "id": "ed7a5629-5ca2-4c6d-b8a4-6b0690c364ea",
   "metadata": {},
   "outputs": [],
   "source": [
    "Src2=driver.find_element(By.XPATH,'/html/body/div[1]/div[3]/form/div[1]/div[1]/div[1]/div/div[2]/textarea')\n",
    "Src2.send_keys('cars')\n",
    "\n",
    "Clc2=driver.find_element(By.XPATH,'/html/body/div[1]/div[3]/form/div[1]/div[1]/div[1]/button/div/span')\n",
    "Clc2.click()"
   ]
  },
  {
   "cell_type": "code",
   "execution_count": 47,
   "id": "730cb4d4-a8b7-462f-a846-341e6477a9ae",
   "metadata": {},
   "outputs": [],
   "source": [
    "Img2=driver.find_elements(By.XPATH,'//img[@class=\"YQ4gaf\"]')\n",
    "Img2[0:10]\n",
    "for b in Img2[0:10]:\n",
    "    crs=b.get_attribute('src')\n",
    "    cars.append(crs)"
   ]
  },
  {
   "cell_type": "code",
   "execution_count": 48,
   "id": "beb0442a-f3a4-4dc2-a6f7-e01a8624bc78",
   "metadata": {},
   "outputs": [],
   "source": [
    "driver.get('https://images.google.com/')\n",
    "\n",
    "Src3=driver.find_element(By.XPATH,'/html/body/div[1]/div[3]/form/div[1]/div[1]/div[1]/div/div[2]/textarea')\n",
    "Src3.send_keys('Machine Learning')\n",
    "\n",
    "Clc3=driver.find_element(By.XPATH,'/html/body/div[1]/div[3]/form/div[1]/div[1]/div[1]/button/div/span')\n",
    "Clc3.click()\n",
    "\n",
    "Img3=driver.find_elements(By.XPATH,'//img[@class=\"YQ4gaf\"]')\n",
    "Img3[0:10]\n",
    "for c in Img3[0:10]:\n",
    "    Ml=c.get_attribute('src')\n",
    "    ml.append(Ml)"
   ]
  },
  {
   "cell_type": "code",
   "execution_count": 49,
   "id": "843d9a64-ad0b-427e-9e72-e5ba695cf066",
   "metadata": {},
   "outputs": [],
   "source": [
    "driver.get('https://images.google.com/')\n",
    "\n",
    "Src4=driver.find_element(By.XPATH,'/html/body/div[1]/div[3]/form/div[1]/div[1]/div[1]/div/div[2]/textarea')\n",
    "Src4.send_keys('Guitar')\n",
    "\n",
    "Clc4=driver.find_element(By.XPATH,'/html/body/div[1]/div[3]/form/div[1]/div[1]/div[1]/button/div/span')\n",
    "Clc4.click()\n",
    "\n",
    "Img4=driver.find_elements(By.XPATH,'//img[@class=\"YQ4gaf\"]')\n",
    "Img4[0:10]\n",
    "for d in Img4[0:10]:\n",
    "    gtr=d.get_attribute('src')\n",
    "    guitar.append(gtr)"
   ]
  },
  {
   "cell_type": "code",
   "execution_count": 51,
   "id": "df4ac996-ab90-4511-9e58-e54cb2f5631b",
   "metadata": {},
   "outputs": [],
   "source": [
    "driver.get('https://images.google.com/')\n",
    "\n",
    "Src5=driver.find_element(By.XPATH,'/html/body/div[1]/div[3]/form/div[1]/div[1]/div[1]/div/div[2]/textarea')\n",
    "Src5.send_keys('cake')\n",
    "\n",
    "Clc5=driver.find_element(By.XPATH,'/html/body/div[1]/div[3]/form/div[1]/div[1]/div[1]/button/div/span')\n",
    "Clc5.click()\n",
    "\n",
    "Img5=driver.find_elements(By.XPATH,'//img[@class=\"YQ4gaf\"]')\n",
    "Img5[0:10]\n",
    "for e in Img5[0:10]:\n",
    "    ck=e.get_attribute('src')\n",
    "    cakes.append(ck)"
   ]
  },
  {
   "cell_type": "code",
   "execution_count": 52,
   "id": "06c83b17-1721-4879-9682-717016d9323c",
   "metadata": {},
   "outputs": [],
   "source": [
    "IMAGES=pd.DataFrame({'FRUIT':fruit,'ML':ml,'GUITAR':guitar,'CAKES':cakes,'CARS':cars})\n",
    "IMAGES"
   ]
  },
  {
   "cell_type": "markdown",
   "id": "93aaf9ce-304e-4ed6-9cc2-7273731c5983",
   "metadata": {},
   "source": [
    "Q-4= Write a python program to search for a smartphone(e.g.: Oneplus Nord, pixel 4A, etc.) on www.flipkart.com\n",
    "and scrape following details for all the search results displayed on 1st page. Details to be scraped: “Brand \n",
    "Name”, “Smartphone name”, “Colour”, “RAM”, “Storage(ROM)”, “Primary Camera”, \n",
    "“Secondary Camera”, “Display Size”, “Battery Capacity”, “Price”, “Product URL”. Incase if any of the \n",
    "details is missing then replace it by “- “. Save your results in a dataframe and CSV."
   ]
  },
  {
   "cell_type": "code",
   "execution_count": 95,
   "id": "83f39ce4-689a-4013-ae62-3764bb1ab32d",
   "metadata": {},
   "outputs": [],
   "source": [
    "driver.get('https://www.flipkart.com/')"
   ]
  },
  {
   "cell_type": "code",
   "execution_count": 96,
   "id": "f131acd0-b998-4aa6-bfd5-9fbc21824710",
   "metadata": {},
   "outputs": [
    {
     "name": "stdin",
     "output_type": "stream",
     "text": [
      "Enter your mobile name Oneplus Nord\n"
     ]
    }
   ],
   "source": [
    "SRC=driver.find_element(By.XPATH,'/html/body/div[1]/div/div[1]/div/div/div/div/div[1]/div/div/div/div[1]/div[1]/header/div[1]/div[2]/form/div/div/input')\n",
    "mobile=input('Enter your mobile name')\n",
    "SRC.send_keys(mobile)\n",
    "\n",
    "CL=driver.find_element(By.XPATH,'/html/body/div[1]/div/div[1]/div/div/div/div/div[1]/div/div/div/div[1]/div[1]/header/div[1]/div[2]/form/div/button')\n",
    "CL.click()"
   ]
  },
  {
   "cell_type": "code",
   "execution_count": 97,
   "id": "ea36227f-5b36-48dc-9dd9-0e8acb4a62e7",
   "metadata": {},
   "outputs": [],
   "source": [
    "B_name= []\n",
    "S_name = []\n",
    "Color = []\n",
    "Ram_rom = []\n",
    "Camera = []\n",
    "Display = []\n",
    "Battery = []\n",
    "Price = []\n",
    "URL = []"
   ]
  },
  {
   "cell_type": "code",
   "execution_count": 117,
   "id": "434a1dcd-cb34-4b7d-b8b5-f78ebfc2276f",
   "metadata": {},
   "outputs": [],
   "source": [
    "b=driver.find_elements(By.XPATH,'//div[@class=\"KzDlHZ\"]')\n",
    "for i in b:\n",
    "    B=i.text.split()[0]\n",
    "    B_name.append(B)"
   ]
  },
  {
   "cell_type": "code",
   "execution_count": 103,
   "id": "4194c4b1-c9ed-4803-8656-a8987fc9f3b3",
   "metadata": {},
   "outputs": [],
   "source": [
    "S=driver.find_elements(By.XPATH,'//div[@class=\"KzDlHZ\"]')\n",
    "for i in S:\n",
    "    S_name.append(i.text)"
   ]
  },
  {
   "cell_type": "code",
   "execution_count": 106,
   "id": "e94cd122-66dc-463f-9a80-858c49c3dfc1",
   "metadata": {},
   "outputs": [],
   "source": [
    "Clr=driver.find_elements(By.XPATH,'//div[@class=\"KzDlHZ\"]')\n",
    "for i in Clr:\n",
    "    Cl=i.text\n",
    "    Cr=Cl.split('(')[1].split(',')[0]\n",
    "    Color.append(Cr)"
   ]
  },
  {
   "cell_type": "code",
   "execution_count": 107,
   "id": "5ab450bf-1e6c-4ee8-81ea-72ad90f8012e",
   "metadata": {},
   "outputs": [],
   "source": [
    "Ramrom=driver.find_elements(By.XPATH,\"//li[contains(text(),'GB RAM') and not (contains(@class,'Ov4d6Q'))]\")\n",
    "for i in Ramrom:\n",
    "    Ram_rom.append(i.text)"
   ]
  },
  {
   "cell_type": "code",
   "execution_count": 108,
   "id": "69c41158-da70-4dec-a041-f38c03f2016e",
   "metadata": {},
   "outputs": [],
   "source": [
    "camera=driver.find_elements(By.XPATH,\"//li[contains(text(),'Camera') and not (contains(@class,'Ov4d6Q'))]\")\n",
    "for i in camera:\n",
    "    Camera.append(i.text)"
   ]
  },
  {
   "cell_type": "code",
   "execution_count": 109,
   "id": "75e42500-db85-44a2-9880-512db2f19ecf",
   "metadata": {},
   "outputs": [],
   "source": [
    "dly=driver.find_elements(By.XPATH,\"//li[contains(text(),'Display') and not (contains(@class,'Ov4d6Q'))]\")\n",
    "for i in dly:\n",
    "    Display.append(i.text)"
   ]
  },
  {
   "cell_type": "code",
   "execution_count": 111,
   "id": "5ed76545-6690-4564-b8e7-0c3f087d1b63",
   "metadata": {},
   "outputs": [],
   "source": [
    "Btry=driver.find_elements(By.XPATH,\"//li[contains(text(),'mAh') and not (contains(@class,'Ov4d6Q'))]\")\n",
    "for i in Btry:\n",
    "    Battery.append(i.text)"
   ]
  },
  {
   "cell_type": "code",
   "execution_count": 112,
   "id": "0d8fac93-85ed-40e2-ab10-614b2767d00f",
   "metadata": {},
   "outputs": [],
   "source": [
    "price=driver.find_elements(By.XPATH,'//div[@class=\"Nx9bqj _4b5DiR\"]')\n",
    "for i in price:\n",
    "    Price.append(i.text)"
   ]
  },
  {
   "cell_type": "code",
   "execution_count": 114,
   "id": "0c29bfbc-2331-45d5-a009-9d628345a515",
   "metadata": {},
   "outputs": [],
   "source": [
    "link=driver.find_elements(By.XPATH,'.//a[@class=\"CGtC98\"]')\n",
    "for i in link:\n",
    "    URL.append(i.get_attribute('href'))"
   ]
  },
  {
   "cell_type": "code",
   "execution_count": 119,
   "id": "d8ba4533-7a2d-4b11-a4fb-68081616c207",
   "metadata": {},
   "outputs": [
    {
     "data": {
      "text/html": [
       "<div>\n",
       "<style scoped>\n",
       "    .dataframe tbody tr th:only-of-type {\n",
       "        vertical-align: middle;\n",
       "    }\n",
       "\n",
       "    .dataframe tbody tr th {\n",
       "        vertical-align: top;\n",
       "    }\n",
       "\n",
       "    .dataframe thead th {\n",
       "        text-align: right;\n",
       "    }\n",
       "</style>\n",
       "<table border=\"1\" class=\"dataframe\">\n",
       "  <thead>\n",
       "    <tr style=\"text-align: right;\">\n",
       "      <th></th>\n",
       "      <th>BRAND_NAME</th>\n",
       "      <th>MODEL_NAME</th>\n",
       "      <th>DISPLAY</th>\n",
       "      <th>COLOR</th>\n",
       "      <th>BATTERY</th>\n",
       "      <th>PRICE</th>\n",
       "      <th>LINK</th>\n",
       "      <th>RAM_ROM</th>\n",
       "      <th>CAMERA</th>\n",
       "    </tr>\n",
       "  </thead>\n",
       "  <tbody>\n",
       "    <tr>\n",
       "      <th>0</th>\n",
       "      <td>OnePlus</td>\n",
       "      <td>OnePlus Nord CE 3 Lite 5G (Pastel Lime, 256 GB)</td>\n",
       "      <td>17.07 cm (6.72 inch) Display</td>\n",
       "      <td>Pastel Lime</td>\n",
       "      <td>5000 mAh Battery</td>\n",
       "      <td>₹18,189</td>\n",
       "      <td>https://www.flipkart.com/oneplus-nord-ce-3-lit...</td>\n",
       "      <td>8 GB RAM | 256 GB ROM</td>\n",
       "      <td>108MP Rear Camera</td>\n",
       "    </tr>\n",
       "    <tr>\n",
       "      <th>1</th>\n",
       "      <td>OnePlus</td>\n",
       "      <td>OnePlus Nord CE 3 Lite 5G (Chromatic Gray, 128...</td>\n",
       "      <td>17.07 cm (6.72 inch) Display</td>\n",
       "      <td>Chromatic Gray</td>\n",
       "      <td>5000 mAh Battery</td>\n",
       "      <td>₹15,999</td>\n",
       "      <td>https://www.flipkart.com/oneplus-nord-ce-3-lit...</td>\n",
       "      <td>8 GB RAM | 128 GB ROM</td>\n",
       "      <td>108MP Rear Camera</td>\n",
       "    </tr>\n",
       "    <tr>\n",
       "      <th>2</th>\n",
       "      <td>OnePlus</td>\n",
       "      <td>OnePlus Nord CE 3 Lite 5G (Pastel Lime, 128 GB)</td>\n",
       "      <td>17.07 cm (6.72 inch) Display</td>\n",
       "      <td>Pastel Lime</td>\n",
       "      <td>5000 mAh Battery</td>\n",
       "      <td>₹15,999</td>\n",
       "      <td>https://www.flipkart.com/oneplus-nord-ce-3-lit...</td>\n",
       "      <td>8 GB RAM | 128 GB ROM</td>\n",
       "      <td>108MP Rear Camera</td>\n",
       "    </tr>\n",
       "    <tr>\n",
       "      <th>3</th>\n",
       "      <td>OnePlus</td>\n",
       "      <td>OnePlus Nord CE 3 Lite 5G (Chromatic Gray, 256...</td>\n",
       "      <td>17.07 cm (6.72 inch) Display</td>\n",
       "      <td>Chromatic Gray</td>\n",
       "      <td>5000 mAh Battery</td>\n",
       "      <td>₹18,498</td>\n",
       "      <td>https://www.flipkart.com/oneplus-nord-ce-3-lit...</td>\n",
       "      <td>8 GB RAM | 256 GB ROM</td>\n",
       "      <td>108MP Rear Camera</td>\n",
       "    </tr>\n",
       "    <tr>\n",
       "      <th>4</th>\n",
       "      <td>OnePlus</td>\n",
       "      <td>OnePlus Nord CE4 (Celadon Marble, 256 GB)</td>\n",
       "      <td>17.02 cm (6.7 inch) Display</td>\n",
       "      <td>Celadon Marble</td>\n",
       "      <td>5500 mAh Battery</td>\n",
       "      <td>₹26,847</td>\n",
       "      <td>https://www.flipkart.com/oneplus-nord-ce4-cela...</td>\n",
       "      <td>8 GB RAM | 256 GB ROM</td>\n",
       "      <td>50MP Rear Camera</td>\n",
       "    </tr>\n",
       "    <tr>\n",
       "      <th>5</th>\n",
       "      <td>OnePlus</td>\n",
       "      <td>OnePlus Nord CE4 (Dark Chrome, 256 GB)</td>\n",
       "      <td>17.02 cm (6.7 inch) Display</td>\n",
       "      <td>Dark Chrome</td>\n",
       "      <td>5500 mAh Battery</td>\n",
       "      <td>₹26,469</td>\n",
       "      <td>https://www.flipkart.com/oneplus-nord-ce4-dark...</td>\n",
       "      <td>8 GB RAM | 256 GB ROM</td>\n",
       "      <td>50MP Rear Camera</td>\n",
       "    </tr>\n",
       "    <tr>\n",
       "      <th>6</th>\n",
       "      <td>OnePlus</td>\n",
       "      <td>OnePlus Nord CE4 (Dark Chrome, 128 GB)</td>\n",
       "      <td>17.02 cm (6.7 inch) Display</td>\n",
       "      <td>Dark Chrome</td>\n",
       "      <td>5500 mAh Battery</td>\n",
       "      <td>₹24,200</td>\n",
       "      <td>https://www.flipkart.com/oneplus-nord-ce4-dark...</td>\n",
       "      <td>8 GB RAM | 128 GB ROM</td>\n",
       "      <td>50MP Rear Camera</td>\n",
       "    </tr>\n",
       "    <tr>\n",
       "      <th>7</th>\n",
       "      <td>OnePlus</td>\n",
       "      <td>OnePlus Nord CE4 (Celadon Marble, 128 GB)</td>\n",
       "      <td>17.02 cm (6.7 inch) Display</td>\n",
       "      <td>Celadon Marble</td>\n",
       "      <td>5500 mAh Battery</td>\n",
       "      <td>₹24,940</td>\n",
       "      <td>https://www.flipkart.com/oneplus-nord-ce4-cela...</td>\n",
       "      <td>8 GB RAM | 128 GB ROM</td>\n",
       "      <td>50MP Rear Camera</td>\n",
       "    </tr>\n",
       "    <tr>\n",
       "      <th>8</th>\n",
       "      <td>OnePlus</td>\n",
       "      <td>OnePlus Nord CE 2 Lite 5G (Black Dusk, 128 GB)</td>\n",
       "      <td>16.74 cm (6.59 inch) Display</td>\n",
       "      <td>Black Dusk</td>\n",
       "      <td>5000 mAh Battery</td>\n",
       "      <td>₹16,620</td>\n",
       "      <td>https://www.flipkart.com/oneplus-nord-ce-2-lit...</td>\n",
       "      <td>6 GB RAM | 128 GB ROM</td>\n",
       "      <td>64MP Rear Camera | 16MP Front Camera</td>\n",
       "    </tr>\n",
       "    <tr>\n",
       "      <th>9</th>\n",
       "      <td>OnePlus</td>\n",
       "      <td>OnePlus Nord CE3 5G (Aqua Surge, 128 GB)</td>\n",
       "      <td>17.02 cm (6.7 inch) Display</td>\n",
       "      <td>Aqua Surge</td>\n",
       "      <td>5000 mAh Battery</td>\n",
       "      <td>₹18,999</td>\n",
       "      <td>https://www.flipkart.com/oneplus-nord-ce3-5g-a...</td>\n",
       "      <td>8 GB RAM | 128 GB ROM</td>\n",
       "      <td>50MP Rear Camera | 16MP Front Camera</td>\n",
       "    </tr>\n",
       "    <tr>\n",
       "      <th>10</th>\n",
       "      <td>OnePlus</td>\n",
       "      <td>OnePlus Nord CE4 lite 5G (SUPER SILVER, 256 GB)</td>\n",
       "      <td>16.94 cm (6.67 inch) Display</td>\n",
       "      <td>SUPER SILVER</td>\n",
       "      <td>5500 mAh Battery</td>\n",
       "      <td>₹22,235</td>\n",
       "      <td>https://www.flipkart.com/oneplus-nord-ce4-lite...</td>\n",
       "      <td>8 GB RAM | 256 GB ROM</td>\n",
       "      <td>50MP Rear Camera</td>\n",
       "    </tr>\n",
       "    <tr>\n",
       "      <th>11</th>\n",
       "      <td>OnePlus</td>\n",
       "      <td>OnePlus Nord CE4 lite 5G (MEGA BLUE, 256 GB)</td>\n",
       "      <td>16.94 cm (6.67 inch) Display</td>\n",
       "      <td>MEGA BLUE</td>\n",
       "      <td>5500 mAh Battery</td>\n",
       "      <td>₹21,790</td>\n",
       "      <td>https://www.flipkart.com/oneplus-nord-ce4-lite...</td>\n",
       "      <td>8 GB RAM | 256 GB ROM</td>\n",
       "      <td>50MP Rear Camera</td>\n",
       "    </tr>\n",
       "    <tr>\n",
       "      <th>12</th>\n",
       "      <td>OnePlus</td>\n",
       "      <td>OnePlus Nord CE3 5G (Grey Shimmer, 128 GB)</td>\n",
       "      <td>17.02 cm (6.7 inch) Display</td>\n",
       "      <td>Grey Shimmer</td>\n",
       "      <td>5000 mAh Battery</td>\n",
       "      <td>₹18,668</td>\n",
       "      <td>https://www.flipkart.com/oneplus-nord-ce3-5g-g...</td>\n",
       "      <td>8 GB RAM | 128 GB ROM</td>\n",
       "      <td>50MP Rear Camera</td>\n",
       "    </tr>\n",
       "    <tr>\n",
       "      <th>13</th>\n",
       "      <td>OnePlus</td>\n",
       "      <td>OnePlus Nord CE3 5G (Grey Shimmer, 256 GB)</td>\n",
       "      <td>17.02 cm (6.7 inch) Display</td>\n",
       "      <td>Grey Shimmer</td>\n",
       "      <td>5000 mAh Battery</td>\n",
       "      <td>₹27,990</td>\n",
       "      <td>https://www.flipkart.com/oneplus-nord-ce3-5g-g...</td>\n",
       "      <td>12 GB RAM | 256 GB ROM</td>\n",
       "      <td>50MP Rear Camera</td>\n",
       "    </tr>\n",
       "    <tr>\n",
       "      <th>14</th>\n",
       "      <td>OnePlus</td>\n",
       "      <td>OnePlus Nord CE4 lite 5G (MEGA BLUE, 128 GB)</td>\n",
       "      <td>16.94 cm (6.67 inch) Display</td>\n",
       "      <td>MEGA BLUE</td>\n",
       "      <td>5500 mAh Battery</td>\n",
       "      <td>₹19,775</td>\n",
       "      <td>https://www.flipkart.com/oneplus-nord-ce4-lite...</td>\n",
       "      <td>8 GB RAM | 128 GB ROM</td>\n",
       "      <td>50MP Rear Camera</td>\n",
       "    </tr>\n",
       "    <tr>\n",
       "      <th>15</th>\n",
       "      <td>OnePlus</td>\n",
       "      <td>OnePlus Nord CE4 lite 5G (ULTRA ORANGE, 128 GB)</td>\n",
       "      <td>16.94 cm (6.67 inch) Display</td>\n",
       "      <td>ULTRA ORANGE</td>\n",
       "      <td>5500 mAh Battery</td>\n",
       "      <td>₹20,192</td>\n",
       "      <td>https://www.flipkart.com/oneplus-nord-ce4-lite...</td>\n",
       "      <td>8 GB RAM | 128 GB ROM</td>\n",
       "      <td>50MP Rear Camera</td>\n",
       "    </tr>\n",
       "    <tr>\n",
       "      <th>16</th>\n",
       "      <td>OnePlus</td>\n",
       "      <td>OnePlus Nord CE4 lite 5G (ULTRA ORANGE, 256 GB)</td>\n",
       "      <td>16.94 cm (6.67 inch) Display</td>\n",
       "      <td>ULTRA ORANGE</td>\n",
       "      <td>5500 mAh Battery</td>\n",
       "      <td>₹22,499</td>\n",
       "      <td>https://www.flipkart.com/oneplus-nord-ce4-lite...</td>\n",
       "      <td>8 GB RAM | 256 GB ROM</td>\n",
       "      <td>50MP Rear Camera</td>\n",
       "    </tr>\n",
       "    <tr>\n",
       "      <th>17</th>\n",
       "      <td>OnePlus</td>\n",
       "      <td>OnePlus Nord CE4 lite 5G (SUPER SILVER, 128 GB)</td>\n",
       "      <td>16.94 cm (6.67 inch) Display</td>\n",
       "      <td>SUPER SILVER</td>\n",
       "      <td>5500 mAh Battery</td>\n",
       "      <td>₹20,384</td>\n",
       "      <td>https://www.flipkart.com/oneplus-nord-ce4-lite...</td>\n",
       "      <td>8 GB RAM | 128 GB ROM</td>\n",
       "      <td>50MP Rear Camera</td>\n",
       "    </tr>\n",
       "    <tr>\n",
       "      <th>18</th>\n",
       "      <td>OnePlus</td>\n",
       "      <td>OnePlus Nord 3 5G (Misty Green, 256 GB)</td>\n",
       "      <td>17.12 cm (6.74 inch) Display</td>\n",
       "      <td>Misty Green</td>\n",
       "      <td>5000 mAh Battery</td>\n",
       "      <td>₹37,999</td>\n",
       "      <td>https://www.flipkart.com/oneplus-nord-3-5g-mis...</td>\n",
       "      <td>16 GB RAM | 256 GB ROM</td>\n",
       "      <td>50MP Rear Camera</td>\n",
       "    </tr>\n",
       "    <tr>\n",
       "      <th>19</th>\n",
       "      <td>OnePlus</td>\n",
       "      <td>OnePlus Nord 3 5G (Tempest Gray, 256 GB)</td>\n",
       "      <td>17.12 cm (6.74 inch) Display</td>\n",
       "      <td>Tempest Gray</td>\n",
       "      <td>5000 mAh Battery</td>\n",
       "      <td>₹36,988</td>\n",
       "      <td>https://www.flipkart.com/oneplus-nord-3-5g-tem...</td>\n",
       "      <td>16 GB RAM | 256 GB ROM</td>\n",
       "      <td>50MP Rear Camera</td>\n",
       "    </tr>\n",
       "    <tr>\n",
       "      <th>20</th>\n",
       "      <td>OnePlus</td>\n",
       "      <td>OnePlus Nord 3 5G (Misty Green, 128 GB)</td>\n",
       "      <td>17.12 cm (6.74 inch) Display</td>\n",
       "      <td>Misty Green</td>\n",
       "      <td>5000 mAh Battery</td>\n",
       "      <td>₹22,374</td>\n",
       "      <td>https://www.flipkart.com/oneplus-nord-3-5g-mis...</td>\n",
       "      <td>8 GB RAM | 128 GB ROM</td>\n",
       "      <td>50MP Rear Camera</td>\n",
       "    </tr>\n",
       "    <tr>\n",
       "      <th>21</th>\n",
       "      <td>OnePlus</td>\n",
       "      <td>OnePlus Nord 3 5G (Tempest Gray, 128 GB)</td>\n",
       "      <td>17.12 cm (6.74 inch) Full HD+ Display</td>\n",
       "      <td>Tempest Gray</td>\n",
       "      <td>5000 mAh Battery</td>\n",
       "      <td>₹29,990</td>\n",
       "      <td>https://www.flipkart.com/oneplus-nord-3-5g-tem...</td>\n",
       "      <td>8 GB RAM | 128 GB ROM</td>\n",
       "      <td>50MP Rear Camera</td>\n",
       "    </tr>\n",
       "    <tr>\n",
       "      <th>22</th>\n",
       "      <td>OnePlus</td>\n",
       "      <td>OnePlus Nord 4 5G (Obsidian Midnight, 256 GB)</td>\n",
       "      <td>17.12 cm (6.74 inch) Display</td>\n",
       "      <td>Obsidian Midnight</td>\n",
       "      <td>5500 mAh Battery</td>\n",
       "      <td>₹32,998</td>\n",
       "      <td>https://www.flipkart.com/oneplus-nord-4-5g-obs...</td>\n",
       "      <td>8 GB RAM | 256 GB ROM</td>\n",
       "      <td>50MP Rear Camera</td>\n",
       "    </tr>\n",
       "    <tr>\n",
       "      <th>23</th>\n",
       "      <td>OnePlus</td>\n",
       "      <td>OnePlus Nord 4 5G (Mercurial Silver, 256 GB)</td>\n",
       "      <td>17.12 cm (6.74 inch) Display</td>\n",
       "      <td>Mercurial Silver</td>\n",
       "      <td>5500 mAh Battery</td>\n",
       "      <td>₹32,999</td>\n",
       "      <td>https://www.flipkart.com/oneplus-nord-4-5g-mer...</td>\n",
       "      <td>8 GB RAM | 256 GB ROM</td>\n",
       "      <td>50MP Rear Camera</td>\n",
       "    </tr>\n",
       "  </tbody>\n",
       "</table>\n",
       "</div>"
      ],
      "text/plain": [
       "   BRAND_NAME                                         MODEL_NAME  \\\n",
       "0     OnePlus    OnePlus Nord CE 3 Lite 5G (Pastel Lime, 256 GB)   \n",
       "1     OnePlus  OnePlus Nord CE 3 Lite 5G (Chromatic Gray, 128...   \n",
       "2     OnePlus    OnePlus Nord CE 3 Lite 5G (Pastel Lime, 128 GB)   \n",
       "3     OnePlus  OnePlus Nord CE 3 Lite 5G (Chromatic Gray, 256...   \n",
       "4     OnePlus          OnePlus Nord CE4 (Celadon Marble, 256 GB)   \n",
       "5     OnePlus             OnePlus Nord CE4 (Dark Chrome, 256 GB)   \n",
       "6     OnePlus             OnePlus Nord CE4 (Dark Chrome, 128 GB)   \n",
       "7     OnePlus          OnePlus Nord CE4 (Celadon Marble, 128 GB)   \n",
       "8     OnePlus     OnePlus Nord CE 2 Lite 5G (Black Dusk, 128 GB)   \n",
       "9     OnePlus           OnePlus Nord CE3 5G (Aqua Surge, 128 GB)   \n",
       "10    OnePlus    OnePlus Nord CE4 lite 5G (SUPER SILVER, 256 GB)   \n",
       "11    OnePlus       OnePlus Nord CE4 lite 5G (MEGA BLUE, 256 GB)   \n",
       "12    OnePlus         OnePlus Nord CE3 5G (Grey Shimmer, 128 GB)   \n",
       "13    OnePlus         OnePlus Nord CE3 5G (Grey Shimmer, 256 GB)   \n",
       "14    OnePlus       OnePlus Nord CE4 lite 5G (MEGA BLUE, 128 GB)   \n",
       "15    OnePlus    OnePlus Nord CE4 lite 5G (ULTRA ORANGE, 128 GB)   \n",
       "16    OnePlus    OnePlus Nord CE4 lite 5G (ULTRA ORANGE, 256 GB)   \n",
       "17    OnePlus    OnePlus Nord CE4 lite 5G (SUPER SILVER, 128 GB)   \n",
       "18    OnePlus            OnePlus Nord 3 5G (Misty Green, 256 GB)   \n",
       "19    OnePlus           OnePlus Nord 3 5G (Tempest Gray, 256 GB)   \n",
       "20    OnePlus            OnePlus Nord 3 5G (Misty Green, 128 GB)   \n",
       "21    OnePlus           OnePlus Nord 3 5G (Tempest Gray, 128 GB)   \n",
       "22    OnePlus      OnePlus Nord 4 5G (Obsidian Midnight, 256 GB)   \n",
       "23    OnePlus       OnePlus Nord 4 5G (Mercurial Silver, 256 GB)   \n",
       "\n",
       "                                  DISPLAY              COLOR  \\\n",
       "0            17.07 cm (6.72 inch) Display        Pastel Lime   \n",
       "1            17.07 cm (6.72 inch) Display     Chromatic Gray   \n",
       "2            17.07 cm (6.72 inch) Display        Pastel Lime   \n",
       "3            17.07 cm (6.72 inch) Display     Chromatic Gray   \n",
       "4             17.02 cm (6.7 inch) Display     Celadon Marble   \n",
       "5             17.02 cm (6.7 inch) Display        Dark Chrome   \n",
       "6             17.02 cm (6.7 inch) Display        Dark Chrome   \n",
       "7             17.02 cm (6.7 inch) Display     Celadon Marble   \n",
       "8            16.74 cm (6.59 inch) Display         Black Dusk   \n",
       "9             17.02 cm (6.7 inch) Display         Aqua Surge   \n",
       "10           16.94 cm (6.67 inch) Display       SUPER SILVER   \n",
       "11           16.94 cm (6.67 inch) Display          MEGA BLUE   \n",
       "12            17.02 cm (6.7 inch) Display       Grey Shimmer   \n",
       "13            17.02 cm (6.7 inch) Display       Grey Shimmer   \n",
       "14           16.94 cm (6.67 inch) Display          MEGA BLUE   \n",
       "15           16.94 cm (6.67 inch) Display       ULTRA ORANGE   \n",
       "16           16.94 cm (6.67 inch) Display       ULTRA ORANGE   \n",
       "17           16.94 cm (6.67 inch) Display       SUPER SILVER   \n",
       "18           17.12 cm (6.74 inch) Display        Misty Green   \n",
       "19           17.12 cm (6.74 inch) Display       Tempest Gray   \n",
       "20           17.12 cm (6.74 inch) Display        Misty Green   \n",
       "21  17.12 cm (6.74 inch) Full HD+ Display       Tempest Gray   \n",
       "22           17.12 cm (6.74 inch) Display  Obsidian Midnight   \n",
       "23           17.12 cm (6.74 inch) Display   Mercurial Silver   \n",
       "\n",
       "             BATTERY    PRICE  \\\n",
       "0   5000 mAh Battery  ₹18,189   \n",
       "1   5000 mAh Battery  ₹15,999   \n",
       "2   5000 mAh Battery  ₹15,999   \n",
       "3   5000 mAh Battery  ₹18,498   \n",
       "4   5500 mAh Battery  ₹26,847   \n",
       "5   5500 mAh Battery  ₹26,469   \n",
       "6   5500 mAh Battery  ₹24,200   \n",
       "7   5500 mAh Battery  ₹24,940   \n",
       "8   5000 mAh Battery  ₹16,620   \n",
       "9   5000 mAh Battery  ₹18,999   \n",
       "10  5500 mAh Battery  ₹22,235   \n",
       "11  5500 mAh Battery  ₹21,790   \n",
       "12  5000 mAh Battery  ₹18,668   \n",
       "13  5000 mAh Battery  ₹27,990   \n",
       "14  5500 mAh Battery  ₹19,775   \n",
       "15  5500 mAh Battery  ₹20,192   \n",
       "16  5500 mAh Battery  ₹22,499   \n",
       "17  5500 mAh Battery  ₹20,384   \n",
       "18  5000 mAh Battery  ₹37,999   \n",
       "19  5000 mAh Battery  ₹36,988   \n",
       "20  5000 mAh Battery  ₹22,374   \n",
       "21  5000 mAh Battery  ₹29,990   \n",
       "22  5500 mAh Battery  ₹32,998   \n",
       "23  5500 mAh Battery  ₹32,999   \n",
       "\n",
       "                                                 LINK                 RAM_ROM  \\\n",
       "0   https://www.flipkart.com/oneplus-nord-ce-3-lit...   8 GB RAM | 256 GB ROM   \n",
       "1   https://www.flipkart.com/oneplus-nord-ce-3-lit...   8 GB RAM | 128 GB ROM   \n",
       "2   https://www.flipkart.com/oneplus-nord-ce-3-lit...   8 GB RAM | 128 GB ROM   \n",
       "3   https://www.flipkart.com/oneplus-nord-ce-3-lit...   8 GB RAM | 256 GB ROM   \n",
       "4   https://www.flipkart.com/oneplus-nord-ce4-cela...   8 GB RAM | 256 GB ROM   \n",
       "5   https://www.flipkart.com/oneplus-nord-ce4-dark...   8 GB RAM | 256 GB ROM   \n",
       "6   https://www.flipkart.com/oneplus-nord-ce4-dark...   8 GB RAM | 128 GB ROM   \n",
       "7   https://www.flipkart.com/oneplus-nord-ce4-cela...   8 GB RAM | 128 GB ROM   \n",
       "8   https://www.flipkart.com/oneplus-nord-ce-2-lit...   6 GB RAM | 128 GB ROM   \n",
       "9   https://www.flipkart.com/oneplus-nord-ce3-5g-a...   8 GB RAM | 128 GB ROM   \n",
       "10  https://www.flipkart.com/oneplus-nord-ce4-lite...   8 GB RAM | 256 GB ROM   \n",
       "11  https://www.flipkart.com/oneplus-nord-ce4-lite...   8 GB RAM | 256 GB ROM   \n",
       "12  https://www.flipkart.com/oneplus-nord-ce3-5g-g...   8 GB RAM | 128 GB ROM   \n",
       "13  https://www.flipkart.com/oneplus-nord-ce3-5g-g...  12 GB RAM | 256 GB ROM   \n",
       "14  https://www.flipkart.com/oneplus-nord-ce4-lite...   8 GB RAM | 128 GB ROM   \n",
       "15  https://www.flipkart.com/oneplus-nord-ce4-lite...   8 GB RAM | 128 GB ROM   \n",
       "16  https://www.flipkart.com/oneplus-nord-ce4-lite...   8 GB RAM | 256 GB ROM   \n",
       "17  https://www.flipkart.com/oneplus-nord-ce4-lite...   8 GB RAM | 128 GB ROM   \n",
       "18  https://www.flipkart.com/oneplus-nord-3-5g-mis...  16 GB RAM | 256 GB ROM   \n",
       "19  https://www.flipkart.com/oneplus-nord-3-5g-tem...  16 GB RAM | 256 GB ROM   \n",
       "20  https://www.flipkart.com/oneplus-nord-3-5g-mis...   8 GB RAM | 128 GB ROM   \n",
       "21  https://www.flipkart.com/oneplus-nord-3-5g-tem...   8 GB RAM | 128 GB ROM   \n",
       "22  https://www.flipkart.com/oneplus-nord-4-5g-obs...   8 GB RAM | 256 GB ROM   \n",
       "23  https://www.flipkart.com/oneplus-nord-4-5g-mer...   8 GB RAM | 256 GB ROM   \n",
       "\n",
       "                                  CAMERA  \n",
       "0                      108MP Rear Camera  \n",
       "1                      108MP Rear Camera  \n",
       "2                      108MP Rear Camera  \n",
       "3                      108MP Rear Camera  \n",
       "4                       50MP Rear Camera  \n",
       "5                       50MP Rear Camera  \n",
       "6                       50MP Rear Camera  \n",
       "7                       50MP Rear Camera  \n",
       "8   64MP Rear Camera | 16MP Front Camera  \n",
       "9   50MP Rear Camera | 16MP Front Camera  \n",
       "10                      50MP Rear Camera  \n",
       "11                      50MP Rear Camera  \n",
       "12                      50MP Rear Camera  \n",
       "13                      50MP Rear Camera  \n",
       "14                      50MP Rear Camera  \n",
       "15                      50MP Rear Camera  \n",
       "16                      50MP Rear Camera  \n",
       "17                      50MP Rear Camera  \n",
       "18                      50MP Rear Camera  \n",
       "19                      50MP Rear Camera  \n",
       "20                      50MP Rear Camera  \n",
       "21                      50MP Rear Camera  \n",
       "22                      50MP Rear Camera  \n",
       "23                      50MP Rear Camera  "
      ]
     },
     "execution_count": 119,
     "metadata": {},
     "output_type": "execute_result"
    }
   ],
   "source": [
    "Flipkart=pd.DataFrame({'BRAND_NAME':B_name,'MODEL_NAME':S_name,'DISPLAY':Display,'COLOR':Color,'BATTERY':Battery,'PRICE':Price,'LINK':URL,'RAM_ROM':Ram_rom,'CAMERA':Camera})\n",
    "Flipkart"
   ]
  },
  {
   "cell_type": "code",
   "execution_count": 123,
   "id": "9745a567-b523-458e-b1c3-55305c6e86ea",
   "metadata": {},
   "outputs": [],
   "source": [
    "Flipkart.to_csv('flipkart.csv',index=False)"
   ]
  },
  {
   "cell_type": "markdown",
   "id": "676b2986-0cee-4d36-936f-a763661aa57b",
   "metadata": {},
   "source": [
    "Q-5= Write a program to scrap geospatial coordinates (latitude, longitude) of a city searched on google maps."
   ]
  },
  {
   "cell_type": "code",
   "execution_count": 126,
   "id": "4bc19cac-d944-49b0-9ee7-10e47d25bd5b",
   "metadata": {},
   "outputs": [],
   "source": [
    "driver.get('https://www.google.com/maps')"
   ]
  },
  {
   "cell_type": "code",
   "execution_count": 127,
   "id": "205ae486-b3c0-4065-99c8-797636c70a37",
   "metadata": {},
   "outputs": [
    {
     "name": "stdin",
     "output_type": "stream",
     "text": [
      "Enter your city here: Dubai\n"
     ]
    }
   ],
   "source": [
    "CITY=input('Enter your city here:')\n",
    "city=driver.find_element(By.XPATH,'//input[@class=\"fontBodyMedium searchboxinput xiQnY \"]')\n",
    "city.send_keys(CITY"
   ]
  },
  {
   "cell_type": "code",
   "execution_count": 128,
   "id": "43cf6724-9fa8-47ff-8d84-4d55a43647c7",
   "metadata": {},
   "outputs": [],
   "source": [
    "clk=driver.find_element(By.XPATH,'//div[@class=\"pzfvzf\"]')\n",
    "clk.click()"
   ]
  },
  {
   "cell_type": "code",
   "execution_count": 130,
   "id": "f4bede5d-408a-482c-86c7-41e071949453",
   "metadata": {},
   "outputs": [
    {
     "name": "stdout",
     "output_type": "stream",
     "text": [
      "25.0727021 53.910465\n"
     ]
    }
   ],
   "source": [
    "Url=driver.current_url\n",
    "parts=Url.split('/@')[1].split(',')\n",
    "latitude=parts[0]\n",
    "longtitude=parts[1]\n",
    "print(latitude,longtitude)"
   ]
  },
  {
   "cell_type": "markdown",
   "id": "d46cd863-0979-4535-b1a2-c2d444008df8",
   "metadata": {},
   "source": [
    "Q-6= Write a program to scrap all the available details of best gaming laptops from digit.in."
   ]
  },
  {
   "cell_type": "code",
   "execution_count": 198,
   "id": "9bf46bf5-4106-4b31-a1b7-c66f4d4e81b5",
   "metadata": {},
   "outputs": [],
   "source": [
    "driver.get('https://www.digit.in/')"
   ]
  },
  {
   "cell_type": "code",
   "execution_count": 199,
   "id": "368a1ee2-31c2-4589-87f7-a6e1922e5143",
   "metadata": {},
   "outputs": [],
   "source": [
    "lp=driver.find_element(By.XPATH,'/html/body/div[1]/header/div/div[1]/div/div/div[2]/form/input[1]')\n",
    "lp.send_keys('Gaming Laptop')\n",
    "lps=driver.find_element(By.XPATH,'/html/body/div[1]/header/div/div[1]/div/div/div[2]/form/button')\n",
    "lps.click()"
   ]
  },
  {
   "cell_type": "code",
   "execution_count": 176,
   "id": "3122a015-e6d2-46f0-a51d-630e472a7d95",
   "metadata": {},
   "outputs": [],
   "source": [
    "from selenium.common.exceptions import TimeoutException, NoSuchElementException"
   ]
  },
  {
   "cell_type": "markdown",
   "id": "5fb713ae-5475-41e1-b87a-7533f364f78f",
   "metadata": {},
   "source": [
    "I write below code and try find all available details but mostly there is \n",
    "not specific details there but i try this code so i markdown this code just for learning."
   ]
  },
  {
   "cell_type": "markdown",
   "id": "39a31976-20cc-4761-ab93-b4fbddf51204",
   "metadata": {},
   "source": [
    "LAPTOP=[]\n",
    "lurl=driver.current_url\n",
    "laptop=driver.find_elements(By.XPATH,'//div[@class=\"product col_item woo_grid_compact two_column_mobile type-product \"]')\n",
    "for l,p in enumerate(laptop):\n",
    "    laptop=driver.find_elements(By.XPATH,'//div[@class=\"product col_item woo_grid_compact two_column_mobile type-product \"]')\n",
    "    p=laptop[l]\n",
    "    ls=p.find_element(By.XPATH,'.//a')\n",
    "    url=ls.get_attribute('href')\n",
    "    driver.get(url)\n",
    "    time.sleep(5)\n",
    "    try:\n",
    "        table=driver.find_element(By.XPATH,'//table[@class=\"woocommerce-product-attributes shop_attributes\"]')\n",
    "        rows=table.find_elements(By.XPATH,'.//tr')\n",
    "        info={}\n",
    "        for i in rows:\n",
    "            try:\n",
    "                heading=i.find_element(By.XPATH,'.//th').text\n",
    "                value=i.find_element(By.XPATH,'.//td').text\n",
    "                info[heading]=value\n",
    "            except Exception as e:\n",
    "                print(f'error occurrs{e}')\n",
    "        Name=driver.find_element(By.XPATH,'//h1[@class=\"floatleft tabletblockdisplay pr20 \"]').text\n",
    "        info['Name of laptop']=Name\n",
    "        LAPTOP.append(info)\n",
    "    except Exception as e:\n",
    "        print(f\"error happen{e}\")\n",
    "    driver.get(lurl)\n",
    "    time.sleep(5)"
   ]
  },
  {
   "cell_type": "code",
   "execution_count": 200,
   "id": "483e56ac-2426-4097-a769-e9f370cc37ea",
   "metadata": {},
   "outputs": [
    {
     "data": {
      "text/plain": [
       "['Acer ALG Gaming Laptop AL15G-52',\n",
       " 'HP Victus Gaming Laptop fa1373TX/fa1227TX',\n",
       " 'HP Victus 15 Gaming Laptop (AMD Ryzen 5600H + 16GB RAM)',\n",
       " 'Victus Gaming Laptop 15-fb0169ax',\n",
       " 'HP Victus Gaming Laptop 15 Fb1018Ax',\n",
       " 'HP Victus Gaming Laptop 15 fb2117AX',\n",
       " 'HP Victus Gaming Laptop 16-S0095Ax',\n",
       " 'HP OMEN Transcend Gaming Laptop 14-fb0089TX',\n",
       " 'Dell Alienware m18 R1 Gaming Laptop',\n",
       " 'HP Omen Gaming Laptop (16-xf0059AX)',\n",
       " 'HP Omen Gaming Laptop (16-wf1025TX)',\n",
       " 'HP OMEN Gaming Laptop 16 XD0007ax']"
      ]
     },
     "execution_count": 200,
     "metadata": {},
     "output_type": "execute_result"
    }
   ],
   "source": [
    "Lap=[]\n",
    "l=driver.find_elements(By.XPATH,'//h3[@class=\" text-clamp text-clamp-2\"]')\n",
    "for i in l:\n",
    "    Lap.append(i.text)\n",
    "Lap"
   ]
  },
  {
   "cell_type": "markdown",
   "id": "f88c9b4d-5508-499e-83eb-29db50a5f0de",
   "metadata": {},
   "source": [
    "Write a python program to scrape the details for all billionaires from www.forbes.com. Details to be scrapped: \n",
    "“Rank”, “Name”, “Net worth”, “Age”, “Citizenship”, “Source”, “Industry”. "
   ]
  },
  {
   "cell_type": "code",
   "execution_count": 203,
   "id": "9958fcb0-72f9-4a3e-b357-75508cba0d84",
   "metadata": {},
   "outputs": [],
   "source": [
    "from selenium.webdriver.common.action_chains import ActionChains"
   ]
  },
  {
   "cell_type": "code",
   "execution_count": 231,
   "id": "04b30b92-6749-4e3f-a15b-162301ca32d3",
   "metadata": {},
   "outputs": [],
   "source": [
    "driver.get('https://www.forbes.com/')"
   ]
  },
  {
   "cell_type": "code",
   "execution_count": 233,
   "id": "ad3c8bcf-e26a-44d6-81ab-8ce3e915524c",
   "metadata": {},
   "outputs": [],
   "source": [
    "side=driver.find_element(By.XPATH,'//div[@class=\"USVF4LaM\"]')\n",
    "side.click()\n",
    "Action=ActionChains(driver)\n",
    "Bili=WebDriverWait(driver,5).until(EC.visibility_of_element_located((By.XPATH,'//div[@class=\"R0tvspq-\"]')))\n",
    "Action.move_to_element(Bili).perform()\n",
    "Arrow=WebDriverWait(driver,10).until(EC.presence_of_element_located((By.XPATH,'//li//a[@href=\"https://www.forbes.com/billionaires/\"]')))\n",
    "Arrow.click()"
   ]
  },
  {
   "cell_type": "code",
   "execution_count": 245,
   "id": "4bd66ac7-699e-45fc-b43d-25a276fadc86",
   "metadata": {},
   "outputs": [],
   "source": [
    "Name=[]\n",
    "Rank=[]\n",
    "Net=[]\n",
    "Age=[]\n",
    "Citizen=[]\n",
    "Source=[]\n",
    "Industry=[]"
   ]
  },
  {
   "cell_type": "code",
   "execution_count": 253,
   "id": "8de22f53-7850-4788-9a3a-f637dd8da2a5",
   "metadata": {},
   "outputs": [
    {
     "data": {
      "text/plain": [
       "(200, 200, 200, 200, 200, 200, 200)"
      ]
     },
     "execution_count": 253,
     "metadata": {},
     "output_type": "execute_result"
    }
   ],
   "source": [
    "len(Name),len(Rank),len(Net),len(Age),len(Citizen),len(Source),len(Industry)"
   ]
  },
  {
   "cell_type": "code",
   "execution_count": 234,
   "id": "71fd4d20-08f0-4758-8b39-a2ea2a83c6e4",
   "metadata": {},
   "outputs": [],
   "source": [
    "Bili=driver.find_elements(By.XPATH,'//div[@role=\"row\"]')"
   ]
  },
  {
   "cell_type": "code",
   "execution_count": 247,
   "id": "a3c2c727-c0eb-4fae-a80d-60188515e424",
   "metadata": {},
   "outputs": [],
   "source": [
    "for B in Bili:\n",
    "    try:\n",
    "        name=B.find_elements(By.XPATH,'.//div[@role=\"cell\"][2]')\n",
    "           Name.append(i.text)\n",
    "        rank=B.find_elements(By.XPATH,'.//div[@role=\"cell\"][1]')\n",
    "        for i in rank:\n",
    "            Rank.append(i.text)\n",
    "        net=B.find_elements(By.XPATH,'.//div[@role=\"cell\"][3]')\n",
    "        for i in net:\n",
    "            Net.append(i.text)\n",
    "        age=B.find_elements(By.XPATH,'.//div[@role=\"cell\"][4]')\n",
    "        for i in age:\n",
    "            Age.append(i.text)\n",
    "        citi=B.find_elements(By.XPATH,'.//div[@role=\"cell\"][5]')\n",
    "        for i in citi:\n",
    "            Citizen.append(i.text)\n",
    "        sour=B.find_elements(By.XPATH,'.//div[@role=\"cell\"][6]')\n",
    "        for i in sour:\n",
    "            Source.append(i.text)\n",
    "        indu=B.find_elements(By.XPATH,'.//div[@role=\"cell\"][7]')\n",
    "        for i in indu:\n",
    "            Industry.append(i.text)\n",
    "    except Exception as e:\n",
    "        print(f'Error{e}')\n",
    "        break"
   ]
  },
  {
   "cell_type": "code",
   "execution_count": 254,
   "id": "0aef371f-2c04-423f-8d1f-b09eb205fa22",
   "metadata": {},
   "outputs": [],
   "source": [
    "Forbes=pd.DataFrame({'Name':Name,'Rank':Rank,'Net':Net,'Age':Age,'Source':Source,'Industry':Industry,'Citizenship':Citizen})"
   ]
  },
  {
   "cell_type": "code",
   "execution_count": 255,
   "id": "885cb1d8-5d13-4883-b2cb-d4ea2f2dffc3",
   "metadata": {},
   "outputs": [
    {
     "data": {
      "text/html": [
       "<div>\n",
       "<style scoped>\n",
       "    .dataframe tbody tr th:only-of-type {\n",
       "        vertical-align: middle;\n",
       "    }\n",
       "\n",
       "    .dataframe tbody tr th {\n",
       "        vertical-align: top;\n",
       "    }\n",
       "\n",
       "    .dataframe thead th {\n",
       "        text-align: right;\n",
       "    }\n",
       "</style>\n",
       "<table border=\"1\" class=\"dataframe\">\n",
       "  <thead>\n",
       "    <tr style=\"text-align: right;\">\n",
       "      <th></th>\n",
       "      <th>Name</th>\n",
       "      <th>Rank</th>\n",
       "      <th>Net</th>\n",
       "      <th>Age</th>\n",
       "      <th>Source</th>\n",
       "      <th>Industry</th>\n",
       "      <th>Citizenship</th>\n",
       "    </tr>\n",
       "  </thead>\n",
       "  <tbody>\n",
       "    <tr>\n",
       "      <th>0</th>\n",
       "      <td>Bernard Arnault &amp; family</td>\n",
       "      <td>1.</td>\n",
       "      <td>$233 B</td>\n",
       "      <td>75</td>\n",
       "      <td>LVMH</td>\n",
       "      <td>Fashion &amp; Retail</td>\n",
       "      <td>France</td>\n",
       "    </tr>\n",
       "    <tr>\n",
       "      <th>1</th>\n",
       "      <td>Elon Musk</td>\n",
       "      <td>2.</td>\n",
       "      <td>$195 B</td>\n",
       "      <td>52</td>\n",
       "      <td>Tesla, SpaceX</td>\n",
       "      <td>Automotive</td>\n",
       "      <td>United States</td>\n",
       "    </tr>\n",
       "    <tr>\n",
       "      <th>2</th>\n",
       "      <td>Jeff Bezos</td>\n",
       "      <td>3.</td>\n",
       "      <td>$194 B</td>\n",
       "      <td>60</td>\n",
       "      <td>Amazon</td>\n",
       "      <td>Technology</td>\n",
       "      <td>United States</td>\n",
       "    </tr>\n",
       "    <tr>\n",
       "      <th>3</th>\n",
       "      <td>Mark Zuckerberg</td>\n",
       "      <td>4.</td>\n",
       "      <td>$177 B</td>\n",
       "      <td>39</td>\n",
       "      <td>Facebook</td>\n",
       "      <td>Technology</td>\n",
       "      <td>United States</td>\n",
       "    </tr>\n",
       "    <tr>\n",
       "      <th>4</th>\n",
       "      <td>Larry Ellison</td>\n",
       "      <td>5.</td>\n",
       "      <td>$141 B</td>\n",
       "      <td>79</td>\n",
       "      <td>Oracle</td>\n",
       "      <td>Technology</td>\n",
       "      <td>United States</td>\n",
       "    </tr>\n",
       "    <tr>\n",
       "      <th>...</th>\n",
       "      <td>...</td>\n",
       "      <td>...</td>\n",
       "      <td>...</td>\n",
       "      <td>...</td>\n",
       "      <td>...</td>\n",
       "      <td>...</td>\n",
       "      <td>...</td>\n",
       "    </tr>\n",
       "    <tr>\n",
       "      <th>195</th>\n",
       "      <td>Lei Jun</td>\n",
       "      <td>195.</td>\n",
       "      <td>$10.9 B</td>\n",
       "      <td>54</td>\n",
       "      <td>Smartphones</td>\n",
       "      <td>Technology</td>\n",
       "      <td>China</td>\n",
       "    </tr>\n",
       "    <tr>\n",
       "      <th>196</th>\n",
       "      <td>Georg Schaeffler</td>\n",
       "      <td>195.</td>\n",
       "      <td>$10.9 B</td>\n",
       "      <td>59</td>\n",
       "      <td>Auto parts</td>\n",
       "      <td>Automotive</td>\n",
       "      <td>Germany</td>\n",
       "    </tr>\n",
       "    <tr>\n",
       "      <th>197</th>\n",
       "      <td>Marcel Herrmann Telles &amp; family</td>\n",
       "      <td>195.</td>\n",
       "      <td>$10.9 B</td>\n",
       "      <td>74</td>\n",
       "      <td>Beer</td>\n",
       "      <td>Food &amp; Beverage</td>\n",
       "      <td>Brazil</td>\n",
       "    </tr>\n",
       "    <tr>\n",
       "      <th>198</th>\n",
       "      <td>David Velez &amp; family</td>\n",
       "      <td>199.</td>\n",
       "      <td>$10.8 B</td>\n",
       "      <td>42</td>\n",
       "      <td>Fintech</td>\n",
       "      <td>Finance &amp; Investments</td>\n",
       "      <td>Colombia</td>\n",
       "    </tr>\n",
       "    <tr>\n",
       "      <th>199</th>\n",
       "      <td>Suleiman Kerimov &amp; family</td>\n",
       "      <td>200.</td>\n",
       "      <td>$10.7 B</td>\n",
       "      <td>58</td>\n",
       "      <td>Gold</td>\n",
       "      <td>Finance &amp; Investments</td>\n",
       "      <td>Russia</td>\n",
       "    </tr>\n",
       "  </tbody>\n",
       "</table>\n",
       "<p>200 rows × 7 columns</p>\n",
       "</div>"
      ],
      "text/plain": [
       "                                Name  Rank      Net Age         Source  \\\n",
       "0           Bernard Arnault & family    1.   $233 B  75           LVMH   \n",
       "1                          Elon Musk    2.   $195 B  52  Tesla, SpaceX   \n",
       "2                         Jeff Bezos    3.   $194 B  60         Amazon   \n",
       "3                    Mark Zuckerberg    4.   $177 B  39       Facebook   \n",
       "4                      Larry Ellison    5.   $141 B  79         Oracle   \n",
       "..                               ...   ...      ...  ..            ...   \n",
       "195                          Lei Jun  195.  $10.9 B  54    Smartphones   \n",
       "196                 Georg Schaeffler  195.  $10.9 B  59     Auto parts   \n",
       "197  Marcel Herrmann Telles & family  195.  $10.9 B  74           Beer   \n",
       "198             David Velez & family  199.  $10.8 B  42        Fintech   \n",
       "199        Suleiman Kerimov & family  200.  $10.7 B  58           Gold   \n",
       "\n",
       "                  Industry    Citizenship  \n",
       "0         Fashion & Retail         France  \n",
       "1               Automotive  United States  \n",
       "2               Technology  United States  \n",
       "3               Technology  United States  \n",
       "4               Technology  United States  \n",
       "..                     ...            ...  \n",
       "195             Technology          China  \n",
       "196             Automotive        Germany  \n",
       "197        Food & Beverage         Brazil  \n",
       "198  Finance & Investments       Colombia  \n",
       "199  Finance & Investments         Russia  \n",
       "\n",
       "[200 rows x 7 columns]"
      ]
     },
     "execution_count": 255,
     "metadata": {},
     "output_type": "execute_result"
    }
   ],
   "source": [
    "Forbes"
   ]
  },
  {
   "cell_type": "markdown",
   "id": "cd5c1d32-2f6a-4506-93ae-35fa25e74be2",
   "metadata": {},
   "source": [
    "Q-8=Write a program to extract at least 500 Comments, Comment upvote and time when comment was posted \n",
    "from any YouTube Video. "
   ]
  },
  {
   "cell_type": "code",
   "execution_count": 263,
   "id": "cc2a1d67-7758-4fb3-adcf-e3be8e45f33d",
   "metadata": {},
   "outputs": [],
   "source": [
    "driver.get('https://www.youtube.com/watch?v=4Sxhkozit9c')"
   ]
  },
  {
   "cell_type": "code",
   "execution_count": 258,
   "id": "49aa16d2-8527-485e-9988-8ffa98787826",
   "metadata": {},
   "outputs": [],
   "source": [
    "from selenium.webdriver.common.keys import Keys"
   ]
  },
  {
   "cell_type": "code",
   "execution_count": 271,
   "id": "7d3d8f61-31da-49ac-8d58-74f9cf1c7a9d",
   "metadata": {},
   "outputs": [],
   "source": [
    "comments = []\n",
    "upvote= []\n",
    "tim= []"
   ]
  },
  {
   "cell_type": "code",
   "execution_count": 272,
   "id": "140b89b7-269b-42c0-b0ac-d84173d80133",
   "metadata": {},
   "outputs": [],
   "source": [
    "Page=driver.find_element(By.TAG_NAME,'body')\n",
    "down=0\n",
    "while down<60:\n",
    "    Page.send_keys(Keys.PAGE_DOWN)\n",
    "    time.sleep(3)\n",
    "    down+=1\n",
    "cmt=driver.find_elements(By.XPATH,'//div[@class=\"style-scope ytd-comment-view-model\"]//span[@class=\"yt-core-attributed-string yt-core-attributed-string--white-space-pre-wrap\"]')\n",
    "for i in cmt:\n",
    "    comments.append(i.text)\n",
    "up=driver.find_elements(By.XPATH,'//div[@class=\"style-scope ytd-comment-view-model\"]//span[@class=\"style-scope ytd-comment-engagement-bar\"]')\n",
    "for i in up:\n",
    "    upvote.append(i.text)\n",
    "tm=driver.find_elements(By.XPATH,'//div[@class=\"style-scope ytd-comment-view-model\"]//span//a[@class=\"yt-simple-endpoint style-scope ytd-comment-view-model\"]')\n",
    "for i in tm:\n",
    "    tim.append(i.text)"
   ]
  },
  {
   "cell_type": "code",
   "execution_count": 273,
   "id": "13f22ff8-e0c9-4858-88b0-80e0c44de916",
   "metadata": {},
   "outputs": [
    {
     "data": {
      "text/plain": [
       "(556, 556, 556)"
      ]
     },
     "execution_count": 273,
     "metadata": {},
     "output_type": "execute_result"
    }
   ],
   "source": [
    "len(comments),len(upvote),len(tim)"
   ]
  },
  {
   "cell_type": "code",
   "execution_count": 274,
   "id": "6edf878c-2ba2-48ec-b752-27b296b68810",
   "metadata": {},
   "outputs": [],
   "source": [
    "Youtube=pd.DataFrame({'COMMENTS':comments,'UPVOTES':upvote,'TIME':tim})\n",
    "Youtube"
   ]
  },
  {
   "cell_type": "markdown",
   "id": "54b2dc67-4f8a-45c7-876b-11a3575613e3",
   "metadata": {},
   "source": [
    "Q-9= Write a python program to scrape a data for all available Hostels from https://www.hostelworld.com/ in \n",
    "“London” location. You have to scrape hostel name, distance from city centre, ratings, total reviews, overall \n",
    "reviews, privates from price, dorms from price, facilities and property description."
   ]
  },
  {
   "cell_type": "code",
   "execution_count": 301,
   "id": "ab60d437-c560-42a7-a677-b9884a9cd399",
   "metadata": {},
   "outputs": [],
   "source": [
    "driver.get('https://www.hostelworld.com/')"
   ]
  },
  {
   "cell_type": "code",
   "execution_count": 302,
   "id": "da99cd7a-c99c-49a8-81e0-34e32eff0382",
   "metadata": {},
   "outputs": [],
   "source": [
    "ln=driver.find_element(By.XPATH,'/html/body/div[3]/div/div[3]/main/header/div/div[2]/div[1]/div[1]/div/div[1]/div[1]/div/div[2]/label/input')\n",
    "ln.send_keys('London')\n",
    "time.sleep(3)\n",
    "lns=driver.find_element(By.XPATH,'//button[@rank=\"1\"]//div[@class=\"icon\"]')\n",
    "lns.click()\n",
    "src=driver.find_element(By.XPATH,'/html/body/div[3]/div/div[3]/main/header/div/div[2]/div[1]/div[1]/div/div[5]/button[2]')\n",
    "src.click()"
   ]
  },
  {
   "cell_type": "code",
   "execution_count": 303,
   "id": "e954ffec-fcab-4457-8559-415e9545f7c8",
   "metadata": {},
   "outputs": [],
   "source": [
    "H_name=[]\n",
    "h=driver.find_elements(By.XPATH,'//div[@class=\"property-info-header\"]//span[@data-v-466b48c5]')\n",
    "for i in h:\n",
    "    H_name.append(i.text)"
   ]
  },
  {
   "cell_type": "code",
   "execution_count": 304,
   "id": "8ea71141-088f-4daf-9620-fc415498d3df",
   "metadata": {},
   "outputs": [],
   "source": [
    "Rating=[]\n",
    "r=driver.find_elements(By.XPATH,'//div[@class=\"property-info-header\"]//span[@class=\"score\"]')\n",
    "for i in r:\n",
    "    Rating.append(i.text)"
   ]
  },
  {
   "cell_type": "code",
   "execution_count": 305,
   "id": "40413c77-7870-44c0-81e3-bd8955d007ff",
   "metadata": {},
   "outputs": [],
   "source": [
    "Overall=[]\n",
    "o=driver.find_elements(By.XPATH,'//div[@class=\"property-info-header\"]//span[@class=\"keyword\"]')\n",
    "for i in o:\n",
    "    Overall.append(i.text)"
   ]
  },
  {
   "cell_type": "code",
   "execution_count": 306,
   "id": "070bf581-a0dc-448f-a9ea-734dabb43048",
   "metadata": {},
   "outputs": [],
   "source": [
    "Total=[]\n",
    "t=driver.find_elements(By.XPATH,'//div[@class=\"property-info-header\"]//span[@class=\"num-reviews left-margin\"]')\n",
    "for i in t:\n",
    "    Total.append(i.text)"
   ]
  },
  {
   "cell_type": "code",
   "execution_count": 307,
   "id": "b3af7143-c9f0-4244-92fa-e9079a30b3d2",
   "metadata": {},
   "outputs": [],
   "source": [
    "Dis=[]\n",
    "d=driver.find_elements(By.XPATH,'//span[@class=\"distance-description\"]')\n",
    "for i in d:\n",
    "    Dis.append(i.text)"
   ]
  },
  {
   "cell_type": "code",
   "execution_count": 308,
   "id": "a08c2496-e049-4197-85ab-b188c091f5a4",
   "metadata": {},
   "outputs": [],
   "source": [
    "P_price=[]\n",
    "P=driver.find_elements(By.XPATH,'//div[contains(text(),\"Privates From\")]/following-sibling::div[@class=\"accommodation-price\"]/strong')\n",
    "for i in P:\n",
    "    P_price.append(i.text)"
   ]
  },
  {
   "cell_type": "code",
   "execution_count": 309,
   "id": "1df54797-20b8-4225-90d2-44831ed513c0",
   "metadata": {},
   "outputs": [],
   "source": [
    "D_price=[]\n",
    "D=driver.find_elements(By.XPATH,'//div[contains(text(),\"Dorms From\")]/following-sibling::div[@class=\"accommodation-price\"]/strong')\n",
    "for i in D:\n",
    "    D_price.append(i.text)"
   ]
  },
  {
   "cell_type": "code",
   "execution_count": 310,
   "id": "8238c9ea-b4d7-4929-886d-b52631d822d9",
   "metadata": {},
   "outputs": [],
   "source": [
    "Facility=[]\n",
    "F=driver.find_elements(By.XPATH,'//div[@class=\"trigger\"]')\n",
    "for i in F:\n",
    "    Facility.append(i.text)"
   ]
  },
  {
   "cell_type": "code",
   "execution_count": null,
   "id": "24bf334c-647d-4ca8-a48b-e0ffd0089d78",
   "metadata": {},
   "outputs": [],
   "source": []
  }
 ],
 "metadata": {
  "kernelspec": {
   "display_name": "Python 3 (ipykernel)",
   "language": "python",
   "name": "python3"
  },
  "language_info": {
   "codemirror_mode": {
    "name": "ipython",
    "version": 3
   },
   "file_extension": ".py",
   "mimetype": "text/x-python",
   "name": "python",
   "nbconvert_exporter": "python",
   "pygments_lexer": "ipython3",
   "version": "3.12.0"
  }
 },
 "nbformat": 4,
 "nbformat_minor": 5
}
